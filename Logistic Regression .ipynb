{
 "cells": [
  {
   "cell_type": "markdown",
   "id": "fb22b979",
   "metadata": {},
   "source": [
    "# Logistic Regression"
   ]
  },
  {
   "cell_type": "code",
   "execution_count": 2,
   "id": "147b9dab",
   "metadata": {},
   "outputs": [],
   "source": [
    "#Step 1\n",
    "# importing libraries\n",
    "from sklearn.datasets import load_digits\n",
    "from sklearn.model_selection import train_test_split\n",
    "from sklearn.linear_model import LogisticRegression\n",
    "from sklearn.metrics import confusion_matrix\n",
    "from sklearn.datasets import make_classification\n",
    "import numpy as np\n",
    "import pandas as pd\n",
    "import matplotlib.pyplot as plt\n",
    "import seaborn as sns\n",
    "from sklearn import metrics\n",
    "%matplotlib inline\n",
    "digits = load_digits()"
   ]
  },
  {
   "cell_type": "code",
   "execution_count": 3,
   "id": "5b69b5b5",
   "metadata": {},
   "outputs": [
    {
     "name": "stdout",
     "output_type": "stream",
     "text": [
      "[[-1.03998139]\n",
      " [-0.95621364]\n",
      " [-0.84180327]\n",
      " [-0.87050456]\n",
      " [ 1.66393923]\n",
      " [-0.71804393]\n",
      " [ 1.08383043]\n",
      " [-1.26757341]\n",
      " [ 1.08208508]\n",
      " [ 0.97553373]\n",
      " [-1.00208508]\n",
      " [ 1.39595849]\n",
      " [ 1.97570183]\n",
      " [ 1.35599916]\n",
      " [ 0.76614378]\n",
      " [ 0.69810023]\n",
      " [ 0.84975857]\n",
      " [-1.76521049]\n",
      " [-1.37428843]\n",
      " [ 1.16463692]\n",
      " [-0.54948233]\n",
      " [-1.42528362]\n",
      " [-1.84752111]\n",
      " [-0.75964349]\n",
      " [ 0.82555974]\n",
      " [ 1.04110249]\n",
      " [-0.93477073]\n",
      " [-1.3329661 ]\n",
      " [ 1.13141771]\n",
      " [ 0.62725608]\n",
      " [-0.0416012 ]\n",
      " [-1.44559004]\n",
      " [ 1.00556691]\n",
      " [-1.56885686]\n",
      " [ 1.14629093]\n",
      " [-1.06638682]\n",
      " [ 1.67626245]\n",
      " [-1.19713668]\n",
      " [ 1.13205352]\n",
      " [ 0.62208913]\n",
      " [ 1.14702566]\n",
      " [-0.85589457]\n",
      " [ 1.81262873]\n",
      " [-0.62717894]\n",
      " [-0.91955061]\n",
      " [-1.13508802]\n",
      " [-0.69318837]\n",
      " [ 1.27470043]\n",
      " [ 0.79891831]\n",
      " [ 1.08979513]\n",
      " [ 1.24384408]\n",
      " [-1.19920051]\n",
      " [ 0.90526474]\n",
      " [ 0.82675089]\n",
      " [-0.96767707]\n",
      " [ 0.79997701]\n",
      " [ 1.14525529]\n",
      " [ 1.00281315]\n",
      " [-1.2576458 ]\n",
      " [-0.82435419]\n",
      " [ 0.46077273]\n",
      " [-1.32122961]\n",
      " [ 1.30695178]\n",
      " [ 1.18357093]\n",
      " [ 0.08116186]\n",
      " [-0.38784812]\n",
      " [-0.69144685]\n",
      " [ 1.57575519]\n",
      " [-0.85453457]\n",
      " [-1.23609922]\n",
      " [ 0.88627696]\n",
      " [-0.18518448]\n",
      " [ 1.13431939]\n",
      " [-0.44645811]\n",
      " [-0.53812803]\n",
      " [ 0.44302985]\n",
      " [ 0.85293726]\n",
      " [-1.26055318]\n",
      " [ 0.33551081]\n",
      " [-0.93064314]\n",
      " [ 0.21274382]\n",
      " [ 1.26879057]\n",
      " [ 1.49751018]\n",
      " [ 0.64626689]\n",
      " [ 1.33335003]\n",
      " [-1.99745643]\n",
      " [ 1.55229237]\n",
      " [-1.57065176]\n",
      " [-0.753404  ]\n",
      " [-0.98501412]\n",
      " [-1.4879162 ]\n",
      " [ 1.60476378]\n",
      " [-1.02005041]\n",
      " [ 0.6549013 ]\n",
      " [-1.01258698]\n",
      " [-0.61852499]\n",
      " [-0.31833883]\n",
      " [-1.06190888]\n",
      " [-1.03485238]\n",
      " [ 0.98202531]]\n",
      "[0 0 0 0 1 0 1 0 1 1 0 1 1 1 1 1 1 0 0 1 0 0 0 0 1 1 0 0 1 1 0 0 1 0 1 0 1\n",
      " 0 1 1 1 0 1 0 0 0 0 1 1 1 1 0 1 1 0 1 1 1 0 0 1 0 1 1 1 0 0 1 0 0 1 0 1 0\n",
      " 0 1 1 0 1 0 1 1 1 1 1 0 1 0 0 0 0 1 0 1 0 0 0 1 0 1]\n"
     ]
    }
   ],
   "source": [
    "# Step 2 >>> Generate the dataset\n",
    "\n",
    "x,y = make_classification(\n",
    "    n_samples=100,\n",
    "    n_features=1,\n",
    "    n_classes=2,\n",
    "    n_clusters_per_class=1,\n",
    "    flip_y=0.03,\n",
    "    n_informative=1,\n",
    "    n_redundant=0,\n",
    "    n_repeated=0\n",
    ")\n",
    "print(x)\n",
    "print(y)"
   ]
  },
  {
   "cell_type": "code",
   "execution_count": 6,
   "id": "6a1eb1f5",
   "metadata": {},
   "outputs": [
    {
     "data": {
      "image/png": "[encoded data removed]",
      "text/plain": [
       "<Figure size 432x288 with 1 Axes>"
      ]
     },
     "metadata": {
      "needs_background": "light"
     },
     "output_type": "display_data"
    }
   ],
   "source": [
    "#Step 3 >>> Visualize Dataset\n",
    "\n",
    "plt.scatter(x,y, c=y, cmap='rainbow')\n",
    "plt.title('Scatter plot of logitic regression')\n",
    "plt.show()"
   ]
  },
  {
   "cell_type": "code",
   "execution_count": 7,
   "id": "5d7db562",
   "metadata": {},
   "outputs": [],
   "source": [
    "#step 4 >>> split dataset\n",
    "x_train, x_test, y_train,y_test = train_test_split(x,y, test_size=0.3, random_state=3)"
   ]
  },
  {
   "cell_type": "code",
   "execution_count": 8,
   "id": "bd9a0c28",
   "metadata": {
    "scrolled": true
   },
   "outputs": [
    {
     "name": "stdout",
     "output_type": "stream",
     "text": [
      "(70, 1)\n"
     ]
    }
   ],
   "source": [
    "print(x_train.shape)"
   ]
  },
  {
   "cell_type": "code",
   "execution_count": 9,
   "id": "e25e655c",
   "metadata": {
    "scrolled": true
   },
   "outputs": [
    {
     "name": "stdout",
     "output_type": "stream",
     "text": [
      "(70,)\n"
     ]
    }
   ],
   "source": [
    "print(y_train.shape)"
   ]
  },
  {
   "cell_type": "code",
   "execution_count": 10,
   "id": "8ac5b461",
   "metadata": {},
   "outputs": [
    {
     "name": "stdout",
     "output_type": "stream",
     "text": [
      "(30, 1)\n"
     ]
    }
   ],
   "source": [
    "print(x_test.shape)"
   ]
  },
  {
   "cell_type": "code",
   "execution_count": 11,
   "id": "382c42c7",
   "metadata": {},
   "outputs": [],
   "source": [
    "#step 5 >>> perform logistic regresion\n",
    "logreg =LogisticRegression()"
   ]
  },
  {
   "cell_type": "code",
   "execution_count": 12,
   "id": "6f172f8e",
   "metadata": {},
   "outputs": [
    {
     "data": {
      "text/plain": [
       "LogisticRegression()"
      ]
     },
     "execution_count": 12,
     "metadata": {},
     "output_type": "execute_result"
    }
   ],
   "source": [
    "logreg.fit(x_train,y_train)"
   ]
  },
  {
   "cell_type": "code",
   "execution_count": 16,
   "id": "3f620100",
   "metadata": {},
   "outputs": [
    {
     "data": {
      "text/plain": [
       "array([1, 1, 1, 1, 0, 1, 0, 1, 1, 1, 0, 1, 0, 0, 1, 1, 1, 0, 0, 0, 0, 1,\n",
       "       1, 1, 0, 1, 0, 0, 1, 1])"
      ]
     },
     "execution_count": 16,
     "metadata": {},
     "output_type": "execute_result"
    }
   ],
   "source": [
    "#Step 6 >>> make predictions using model\n",
    "predictions = logreg.predict(x_test)\n",
    "predictions"
   ]
  },
  {
   "cell_type": "code",
   "execution_count": 14,
   "id": "4063ec92",
   "metadata": {},
   "outputs": [
    {
     "name": "stdout",
     "output_type": "stream",
     "text": [
      "0.9666666666666667\n"
     ]
    }
   ],
   "source": [
    "score = logreg.score(x_test,y_test)\n",
    "print(score)"
   ]
  },
  {
   "cell_type": "code",
   "execution_count": 17,
   "id": "43788d97",
   "metadata": {},
   "outputs": [
    {
     "name": "stdout",
     "output_type": "stream",
     "text": [
      "[[11  0]\n",
      " [ 1 18]]\n"
     ]
    }
   ],
   "source": [
    "#Step 7 >>> Display the confusion matrix\n",
    "cm = metrics.confusion_matrix(y_test,predictions)\n",
    "print(cm)"
   ]
  },
  {
   "cell_type": "code",
   "execution_count": 18,
   "id": "169bd60d",
   "metadata": {},
   "outputs": [
    {
     "name": "stdout",
     "output_type": "stream",
     "text": [
      "[[11  0]\n",
      " [ 1 18]]\n"
     ]
    }
   ],
   "source": [
    "cm1 = confusion_matrix(y_test,predictions)\n",
    "print(cm1)"
   ]
  }
 ],
 "metadata": {
  "kernelspec": {
   "display_name": "Python 3",
   "language": "python",
   "name": "python3"
  },
  "language_info": {
   "codemirror_mode": {
    "name": "ipython",
    "version": 3
   },
   "file_extension": ".py",
   "mimetype": "text/x-python",
   "name": "python",
   "nbconvert_exporter": "python",
   "pygments_lexer": "ipython3",
   "version": "3.8.8"
  }
 },
 "nbformat": 4,
 "nbformat_minor": 5
}
